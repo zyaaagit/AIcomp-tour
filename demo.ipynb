{
 "cells": [
  {
   "cell_type": "code",
   "execution_count": 16,
   "metadata": {},
   "outputs": [],
   "source": [
    "import spacy\n",
    "from spacy.pipeline import EntityRuler\n",
    "\n",
    "nlp = spacy.load(\"zh_core_web_trf\")\n",
    "\n",
    "text = \"DAY1： 高州 博物馆—— 高州 市区—— 冼太庙 ——鉴江DAY2： 露天矿生态公园—— 茂名 博物馆——红树林——小东江DAY3： 广东 石油化工学院（ 茂名 学院）——回程，以及海悦音\"\n",
    "ruler = nlp.add_pipe(\"entity_ruler\")\n",
    "patterns = [\n",
    "    {\"label\": \"LOC\", \"pattern\": \"露天矿生态公园\"},\n",
    "    {\"label\": \"LOC\", \"pattern\": \"海悦音\"}\n",
    "]\n",
    "\n",
    "ruler.add_patterns(patterns)"
   ]
  },
  {
   "cell_type": "code",
   "execution_count": 17,
   "metadata": {},
   "outputs": [
    {
     "name": "stdout",
     "output_type": "stream",
     "text": [
      "高州 博物馆 ORG\n",
      "高州 市区 LOC\n",
      "冼太庙 FAC\n",
      "鉴江 FAC\n",
      "露天矿生态公园 LOC\n",
      "茂名 博物馆 ORG\n",
      "广东 石油化工学院 ORG\n",
      "茂名 学院 ORG\n",
      "海悦音 LOC\n"
     ]
    }
   ],
   "source": [
    "doc = nlp(text)\n",
    "#extract entities\n",
    "for ent in doc.ents:\n",
    "    print (ent.text, ent.label_)"
   ]
  },
  {
   "cell_type": "code",
   "execution_count": 4,
   "metadata": {},
   "outputs": [],
   "source": [
    "import spacy\n",
    "from spacy.pipeline import EntityRuler\n",
    "\n",
    "nlp = spacy.load(\"zh_core_web_trf\")\n",
    "\n",
    "text = \"鸡肉卷还是某华好吃，这里的鸡肉卷饼皮较硬。鸡腿超赞，又大又香，满满的肉汁！！！ #炸鸡腿#\"\n",
    "ruler = nlp.add_pipe(\"entity_ruler\")\n",
    "patterns = [\n",
    "    {\"label\": \"FOOD\", \"pattern\": \"芒果寿司\"},\n",
    "    {\"label\": \"FOOD\", \"pattern\": \"有机蔬菜沙拉\"},\n",
    "    {\"label\": \"FOOD\", \"pattern\": \"水果忌廉夹心\"}\n",
    "]\n",
    "\n",
    "ruler.add_patterns(patterns)"
   ]
  },
  {
   "cell_type": "code",
   "execution_count": 5,
   "metadata": {},
   "outputs": [],
   "source": [
    "doc = nlp(text)\n",
    "#extract entities\n",
    "for ent in doc.ents:\n",
    "    print (ent.text, ent.label_)"
   ]
  },
  {
   "cell_type": "code",
   "execution_count": 43,
   "metadata": {},
   "outputs": [
    {
     "name": "stdout",
     "output_type": "stream",
     "text": [
      "{'露天矿生态公园', '高州市区', '鉴江', '茂名博物馆', '茂名学院', '冼太庙', '高州博物馆', '广东石油化工学院'}\n"
     ]
    }
   ],
   "source": [
    "\n",
    "# Initialize a list to store entities with labels \"LOC\" and \"ORG\"\n",
    "loc_org_entities = set()\n",
    "\n",
    "# Iterate over the entities found in the document\n",
    "for ent in doc.ents:\n",
    "    # Check if the entity's label is \"LOC\" or \"ORG\"\n",
    "    if ent.label_ in [\"LOC\", \"ORG\", \"FAC\"]:\n",
    "        # Append the entity text to the list\n",
    "        loc_org_entities.add(ent.text.replace(\" \",''))\n",
    "\n",
    "# Print the extracted entities\n",
    "print(loc_org_entities)"
   ]
  },
  {
   "cell_type": "code",
   "execution_count": 1,
   "metadata": {},
   "outputs": [],
   "source": [
    "from SpacyNer import SpacyNer\n",
    "s = SpacyNer()\n",
    "s.addpipe(\"entity_ruler\")\n",
    "s.spacy_ner(\"DAY1： 高州 博物馆—— 高州 市区—— 冼太庙 ——鉴江DAY2： 露天矿生态公园—— 茂名 博物馆——红树林——小东江DAY3： 广东 石油化工学院（ 茂名 学院）——回程，以及海悦音\")"
   ]
  },
  {
   "cell_type": "code",
   "execution_count": 8,
   "metadata": {},
   "outputs": [],
   "source": [
    "from ckip_transformers.nlp import CkipWordSegmenter, CkipPosTagger, CkipNerChunker\n",
    "# Initialize drivers\n",
    "# ws_driver  = CkipWordSegmenter(model=\"bert-base\")\n",
    "# pos_driver = CkipPosTagger(model=\"bert-base\")\n",
    "ner_driver = CkipNerChunker(model=\"albert-base\")\n",
    "\n",
    "# Input text\n",
    "text = [\n",
    "   \"DAY1： 高州 博物馆—— 高州 市区—— 冼太庙 ——鉴江DAY2： 露天矿生态公园—— 茂名 博物馆——红树林——小东江DAY3： 广东 石油化工学院（ 茂名 学院）——回程，以及海悦音\"\n",
    "]\n",
    "\n",
    "# Run pipeline\n",
    "# ws  = ws_driver(text)\n",
    "# pos = pos_driver(ws)\n",
    "ner = ner_driver(text,show_progress = False)\n"
   ]
  },
  {
   "cell_type": "code",
   "execution_count": 7,
   "metadata": {},
   "outputs": [
    {
     "data": {
      "text/plain": [
       "[[NerToken(word='高州 博物馆', ner='FAC', idx=(6, 12)),\n",
       "  NerToken(word='冼太庙', ner='FAC', idx=(23, 26)),\n",
       "  NerToken(word='鉴江', ner='LOC', idx=(29, 31)),\n",
       "  NerToken(word='露天矿生态公园', ner='FAC', idx=(37, 44)),\n",
       "  NerToken(word='小东江', ner='LOC', idx=(60, 63)),\n",
       "  NerToken(word='广东', ner='GPE', idx=(69, 71)),\n",
       "  NerToken(word='茂名 学院', ner='ORG', idx=(80, 85)),\n",
       "  NerToken(word='海悦音', ner='ORG', idx=(93, 96))]]"
      ]
     },
     "execution_count": 7,
     "metadata": {},
     "output_type": "execute_result"
    }
   ],
   "source": [
    "ner"
   ]
  },
  {
   "cell_type": "code",
   "execution_count": 13,
   "metadata": {},
   "outputs": [
    {
     "name": "stdout",
     "output_type": "stream",
     "text": [
      "['高州博物馆', '冼太庙', '石油化工学院', '茂名学院', '海悦音']\n"
     ]
    }
   ],
   "source": [
    "# 使用列表推导式取出符合条件的'word'\n",
    "org_fac_words = [token.word.replace(\" \",'') for token in ner[0] if token.ner in ['ORG', 'FAC','LOC']]\n",
    "\n",
    "print(org_fac_words)"
   ]
  },
  {
   "cell_type": "code",
   "execution_count": 1,
   "metadata": {},
   "outputs": [],
   "source": [
    "from HugNer import HugBert\n",
    "hugbert = HugBert()"
   ]
  },
  {
   "cell_type": "code",
   "execution_count": 2,
   "metadata": {},
   "outputs": [
    {
     "name": "stderr",
     "output_type": "stream",
     "text": [
      "Tokenization:   0%|          | 0/1 [00:00<?, ?it/s]"
     ]
    },
    {
     "name": "stderr",
     "output_type": "stream",
     "text": [
      "Tokenization: 100%|██████████| 1/1 [00:00<00:00, 1808.67it/s]\n",
      "Inference: 100%|██████████| 1/1 [00:00<00:00,  3.76it/s]\n"
     ]
    },
    {
     "data": {
      "text/plain": [
       "{'冼太庙', '海悦音', '石油化工学院', '茂名学院', '高州博物馆'}"
      ]
     },
     "execution_count": 2,
     "metadata": {},
     "output_type": "execute_result"
    }
   ],
   "source": [
    "hugbert.ner([\n",
    "   \"DAY1： 高州 博物馆—— 高州 市区—— 冼太庙 ——鉴江DAY2： 露天矿生态公园—— 茂名 博物馆——红树林——小东江DAY3： 广东 石油化工学院（ 茂名 学院）——回程，以及海悦音\"\n",
    "])"
   ]
  },
  {
   "cell_type": "code",
   "execution_count": 1,
   "metadata": {},
   "outputs": [],
   "source": [
    "from gdmap import GDmap\n",
    "map = GDmap()"
   ]
  },
  {
   "cell_type": "code",
   "execution_count": 2,
   "metadata": {},
   "outputs": [
    {
     "data": {
      "text/plain": [
       "'4eebece011fa2f37fb741be854065655'"
      ]
     },
     "execution_count": 2,
     "metadata": {},
     "output_type": "execute_result"
    }
   ],
   "source": [
    "map.key"
   ]
  },
  {
   "cell_type": "code",
   "execution_count": null,
   "metadata": {},
   "outputs": [],
   "source": [
    "nlp = spacy.blank('en') \n",
    "ner = nlp.create_pipe('ner') \n",
    "nlp.add_pipe(ner, last=True) "
   ]
  },
  {
   "cell_type": "code",
   "execution_count": 21,
   "metadata": {},
   "outputs": [],
   "source": [
    "import requests\n",
    "import json\n",
    "from jsonsearch import JsonSearch\n",
    "    "
   ]
  },
  {
   "cell_type": "code",
   "execution_count": 25,
   "metadata": {},
   "outputs": [],
   "source": [
    "url = 'https://api.luokuang.com/v2/search/text?ak=EE169070997731313807BEA5CB496C14097A0797FEEF15CA426XIZHFBT5E4083&keyword=高州仙人洞自然风景区露营点&adcode=茂名'\n",
    "r = requests.get(url)"
   ]
  },
  {
   "cell_type": "code",
   "execution_count": 26,
   "metadata": {},
   "outputs": [],
   "source": [
    "r_dict = json.loads(r.text)"
   ]
  },
  {
   "cell_type": "code",
   "execution_count": 27,
   "metadata": {},
   "outputs": [
    {
     "data": {
      "text/plain": [
       "['仙旅松屿湖露营点', '在仙旅星空民宿露营点']"
      ]
     },
     "execution_count": 27,
     "metadata": {},
     "output_type": "execute_result"
    }
   ],
   "source": [
    "jsondata = JsonSearch(object=r_dict, mode='j')\n",
    "jsondata.search_all_value(key='name')"
   ]
  },
  {
   "cell_type": "code",
   "execution_count": 28,
   "metadata": {},
   "outputs": [
    {
     "data": {
      "text/plain": [
       "{'status': 0,\n",
       " 'total': 2,\n",
       " 'result': [{'coordinates': [110.692311, 21.860129],\n",
       "   'properties': {'id': 'emg:venue:440900:200000048855227',\n",
       "    'name': '仙旅松屿湖露营点',\n",
       "    'country': '中华人民共和国',\n",
       "    'province': '广东省',\n",
       "    'city': '茂名市',\n",
       "    'county': '高州市',\n",
       "    'address': '',\n",
       "    'label': '广东省茂名市高州市仙旅松屿湖露营点',\n",
       "    'confidence': 0.324104,\n",
       "    'postalcode': '525200',\n",
       "    'center': {'lon': 110.692311, 'lat': 21.860129},\n",
       "    'categories': ['休闲娱乐'],\n",
       "    'country_id': '560000',\n",
       "    'province_id': '440000',\n",
       "    'city_id': '440900',\n",
       "    'county_id': '440981',\n",
       "    'route_point': {'lon': 110.692311, 'lat': 21.860129}}},\n",
       "  {'coordinates': [111.234231, 22.263666],\n",
       "   'properties': {'id': 'emg3:venue:440900:200000035904371',\n",
       "    'name': '在仙旅星空民宿露营点',\n",
       "    'country': '中华人民共和国',\n",
       "    'province': '广东省',\n",
       "    'city': '茂名市',\n",
       "    'county': '高州市',\n",
       "    'address': '',\n",
       "    'label': '广东省茂名市高州市在仙旅星空民宿露营点',\n",
       "    'confidence': 0.281245,\n",
       "    'postalcode': '525200',\n",
       "    'center': {'lon': 111.234231, 'lat': 22.263666},\n",
       "    'categories': ['休闲娱乐'],\n",
       "    'country_id': '560000',\n",
       "    'province_id': '440000',\n",
       "    'city_id': '440900',\n",
       "    'county_id': '440981',\n",
       "    'route_point': {'lon': 111.234231, 'lat': 22.263666}}}],\n",
       " 'bound': [110.692311, 21.860129, 111.234231, 22.263666]}"
      ]
     },
     "execution_count": 28,
     "metadata": {},
     "output_type": "execute_result"
    }
   ],
   "source": [
    "r_dict"
   ]
  },
  {
   "cell_type": "code",
   "execution_count": 2,
   "metadata": {},
   "outputs": [
    {
     "ename": "KeyError",
     "evalue": "'results'",
     "output_type": "error",
     "traceback": [
      "\u001b[0;31m---------------------------------------------------------------------------\u001b[0m",
      "\u001b[0;31mKeyError\u001b[0m                                  Traceback (most recent call last)",
      "Cell \u001b[0;32mIn[2], line 3\u001b[0m\n\u001b[1;32m      1\u001b[0m \u001b[39mfrom\u001b[39;00m \u001b[39mbdmap\u001b[39;00m \u001b[39mimport\u001b[39;00m BDmap\n\u001b[1;32m      2\u001b[0m bdmap \u001b[39m=\u001b[39m BDmap()\n\u001b[0;32m----> 3\u001b[0m bdmap\u001b[39m.\u001b[39;49mrun(\u001b[39m'\u001b[39;49m\u001b[39m高山桥\u001b[39;49m\u001b[39m'\u001b[39;49m)\n",
      "File \u001b[0;32m/Volumes/PS2000/Program/NER/C题 疫情背景下的周边游需求图谱分析/Code/bdmap.py:41\u001b[0m, in \u001b[0;36mBDmap.run\u001b[0;34m(self, address)\u001b[0m\n\u001b[1;32m     39\u001b[0m \u001b[39m\"\"\" 运行函数 \"\"\"\u001b[39;00m\n\u001b[1;32m     40\u001b[0m index_url \u001b[39m=\u001b[39m \u001b[39mf\u001b[39m\u001b[39m'\u001b[39m\u001b[39mhttps://api.map.baidu.com/place/v2/search?query=\u001b[39m\u001b[39m{\u001b[39;00maddress\u001b[39m}\u001b[39;00m\u001b[39m&region=茂名&city_limit=true&output=json&ak=\u001b[39m\u001b[39m{\u001b[39;00m\u001b[39mself\u001b[39m\u001b[39m.\u001b[39mak\u001b[39m}\u001b[39;00m\u001b[39m'\u001b[39m\n\u001b[0;32m---> 41\u001b[0m index_result \u001b[39m=\u001b[39m \u001b[39mself\u001b[39;49m\u001b[39m.\u001b[39;49mrequest_api(index_url)\n\u001b[1;32m     42\u001b[0m \u001b[39mreturn\u001b[39;00m index_result\n",
      "File \u001b[0;32m/Volumes/PS2000/Program/NER/C题 疫情背景下的周边游需求图谱分析/Code/bdmap.py:35\u001b[0m, in \u001b[0;36mBDmap.request_api\u001b[0;34m(self, url)\u001b[0m\n\u001b[1;32m     33\u001b[0m \u001b[39m\"\"\" 请求高德api解析json \"\"\"\u001b[39;00m\n\u001b[1;32m     34\u001b[0m result \u001b[39m=\u001b[39m \u001b[39mself\u001b[39m\u001b[39m.\u001b[39mrequest_url_get(url)\n\u001b[0;32m---> 35\u001b[0m city \u001b[39m=\u001b[39m \u001b[39mself\u001b[39;49m\u001b[39m.\u001b[39;49mparse_json(result)\n\u001b[1;32m     36\u001b[0m \u001b[39mreturn\u001b[39;00m city\n",
      "File \u001b[0;32m/Volumes/PS2000/Program/NER/C题 疫情背景下的周边游需求图谱分析/Code/bdmap.py:23\u001b[0m, in \u001b[0;36mBDmap.parse_json\u001b[0;34m(self, content_json)\u001b[0m\n\u001b[1;32m     21\u001b[0m \u001b[39m\"\"\"  解析json函数 \"\"\"\u001b[39;00m\n\u001b[1;32m     22\u001b[0m r_dict \u001b[39m=\u001b[39m json\u001b[39m.\u001b[39mloads(content_json)\n\u001b[0;32m---> 23\u001b[0m len_dict \u001b[39m=\u001b[39m \u001b[39mlen\u001b[39m(r_dict[\u001b[39m'\u001b[39;49m\u001b[39mresults\u001b[39;49m\u001b[39m'\u001b[39;49m])\n\u001b[1;32m     24\u001b[0m r_list \u001b[39m=\u001b[39m \u001b[39mset\u001b[39m()\n\u001b[1;32m     25\u001b[0m \u001b[39mif\u001b[39;00m len_dict \u001b[39m==\u001b[39m \u001b[39m0\u001b[39m:\n",
      "\u001b[0;31mKeyError\u001b[0m: 'results'"
     ]
    }
   ],
   "source": [
    "from bdmap import BDmap\n",
    "bdmap = BDmap()\n",
    "bdmap.run('高山桥')"
   ]
  },
  {
   "cell_type": "code",
   "execution_count": 1,
   "metadata": {},
   "outputs": [],
   "source": [
    "import sys\n",
    " \n",
    "sys.path.append('apis')\n",
    "sys.path.append('model')\n",
    "sys.path.append('scrapy')"
   ]
  },
  {
   "cell_type": "code",
   "execution_count": 3,
   "metadata": {},
   "outputs": [
    {
     "name": "stdout",
     "output_type": "stream",
     "text": [
      "['牙象大地艺术公园', '怪兽充电(牙象大地艺术公园)', '牙象大地艺术公园停车场']\n"
     ]
    },
    {
     "data": {
      "text/plain": [
       "['牙象大地艺术公园', '怪兽充电(牙象大地艺术公园)', '牙象大地艺术公园停车场']"
      ]
     },
     "execution_count": 3,
     "metadata": {},
     "output_type": "execute_result"
    }
   ],
   "source": [
    "from lbsmap import LBSmap\n",
    "lbsmap = LBSmap()\n",
    "lbsmap.run('牙象木头塘村牙象大地艺术公园')"
   ]
  }
 ],
 "metadata": {
  "kernelspec": {
   "display_name": "nlp",
   "language": "python",
   "name": "python3"
  },
  "language_info": {
   "codemirror_mode": {
    "name": "ipython",
    "version": 3
   },
   "file_extension": ".py",
   "mimetype": "text/x-python",
   "name": "python",
   "nbconvert_exporter": "python",
   "pygments_lexer": "ipython3",
   "version": "3.9.13"
  },
  "orig_nbformat": 4
 },
 "nbformat": 4,
 "nbformat_minor": 2
}
