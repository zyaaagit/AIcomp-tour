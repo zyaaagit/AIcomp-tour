{
 "cells": [
  {
   "cell_type": "code",
   "execution_count": 1,
   "metadata": {},
   "outputs": [],
   "source": [
    "import json"
   ]
  },
  {
   "cell_type": "code",
   "execution_count": 2,
   "metadata": {},
   "outputs": [],
   "source": [
    "hotel_lists_file = 'hotel.json'\n",
    "scienic_lists_file = 'scienic.json'\n",
    "canteen_lists_file = 'canteen.json'\n",
    "similar_canteens_file = 'similar_catering.json'\n",
    "similar_hotels_file = 'similar_hotel.json'"
   ]
  },
  {
   "cell_type": "code",
   "execution_count": 3,
   "metadata": {},
   "outputs": [],
   "source": [
    "with open(hotel_lists_file, 'r') as f:\n",
    "    hotel_lists = f.read()\n",
    "hotel_lists = json.loads(hotel_lists).copy()\n",
    "\n",
    "with open(scienic_lists_file, 'r') as f:\n",
    "    scienic_lists = f.read()\n",
    "scienic_lists = json.loads(scienic_lists).copy()\n",
    "\n",
    "with open(canteen_lists_file, 'r') as f:\n",
    "    canteen_lists = f.read()\n",
    "canteen_lists = json.loads(canteen_lists).copy()\n",
    "\n",
    "with open(similar_canteens_file, 'r') as f:\n",
    "    similar_canteens = f.read()\n",
    "similar_canteens = json.loads(similar_canteens).copy()\n",
    "\n",
    "with open(similar_hotels_file, 'r') as f:\n",
    "    similar_hotels = f.read()\n",
    "similar_hotels = json.loads(similar_hotels).copy()"
   ]
  },
  {
   "cell_type": "code",
   "execution_count": 6,
   "metadata": {},
   "outputs": [
    {
     "data": {
      "text/plain": [
       "1500"
      ]
     },
     "execution_count": 6,
     "metadata": {},
     "output_type": "execute_result"
    }
   ],
   "source": [
    "len(canteen_lists)"
   ]
  },
  {
   "cell_type": "code",
   "execution_count": 27,
   "metadata": {},
   "outputs": [],
   "source": [
    "for similar_canteen in similar_canteens:\n",
    "    found_canteen = list(filter(lambda x: x['name'] == similar_canteen['catering'], canteen_lists))\n",
    "    if found_canteen:\n",
    "        found_canteen = found_canteen[0]\n",
    "    else:\n",
    "        print('没有找到' + similar_canteen['catering'])\n",
    "    found_canteen['similar_canteen'] = similar_canteen['similar']\n",
    "# canteen_lists  "
   ]
  },
  {
   "cell_type": "code",
   "execution_count": 28,
   "metadata": {},
   "outputs": [],
   "source": [
    "not_found_hotel = []\n",
    "for similar_hotel in similar_hotels:\n",
    "    found_hotel = list(filter(lambda x: x['name'] == similar_hotel['hotel'], hotel_lists))\n",
    "    if found_hotel:\n",
    "        found_hotel = found_hotel[0]\n",
    "    else:\n",
    "        not_found_hotel.append(similar_hotel['hotel'])\n",
    "        continue\n",
    "    found_hotel['similar_hotel'] = similar_hotel['similar']"
   ]
  },
  {
   "cell_type": "code",
   "execution_count": 32,
   "metadata": {},
   "outputs": [],
   "source": [
    "with open('result/hotel_combine.json', 'w', encoding='utf-8') as json_file:\n",
    "    json.dump(hotel_lists, json_file, ensure_ascii=False, indent=4)"
   ]
  },
  {
   "cell_type": "code",
   "execution_count": 33,
   "metadata": {},
   "outputs": [],
   "source": [
    "with open('result/canteen_combine.json', 'w', encoding='utf-8') as json_file:\n",
    "    json.dump(canteen_lists, json_file, ensure_ascii=False, indent=4)"
   ]
  }
 ],
 "metadata": {
  "kernelspec": {
   "display_name": "nlp",
   "language": "python",
   "name": "python3"
  },
  "language_info": {
   "codemirror_mode": {
    "name": "ipython",
    "version": 3
   },
   "file_extension": ".py",
   "mimetype": "text/x-python",
   "name": "python",
   "nbconvert_exporter": "python",
   "pygments_lexer": "ipython3",
   "version": "3.9.13"
  },
  "orig_nbformat": 4
 },
 "nbformat": 4,
 "nbformat_minor": 2
}
