{
 "cells": [
  {
   "cell_type": "code",
   "execution_count": 4,
   "metadata": {},
   "outputs": [],
   "source": [
    "# 导入 webdriver \n",
    "from selenium import webdriver \n",
    "from selenium.webdriver.common.by import By # 调用键盘按键操作时需要引入的Keys包 \n",
    "from selenium.webdriver.common.keys import Keys"
   ]
  },
  {
   "cell_type": "code",
   "execution_count": 5,
   "metadata": {},
   "outputs": [],
   "source": [
    "# 调用环境变量指定的PhantomJS浏览器创建浏览器对象\n",
    "driver = webdriver.Chrome()\n",
    "# # get方法会一直等到页面被完全加载，然后才会继续程序，通常测试会在这里选择\n",
    "driver.get(\"https://www.ctrip.com/\")"
   ]
  },
  {
   "cell_type": "code",
   "execution_count": 6,
   "metadata": {},
   "outputs": [],
   "source": [
    "\n",
    "# id=\"kw\"是百度搜索输入框，输入字符串\"长城\" \n",
    "driver.find_element(By.CSS_SELECTOR, \"#_allSearchKeyword\").send_keys(\"茂名君悦商务酒店\")\n",
    "# id=\"su\"是百度搜索按钮，click() 是模拟点击 \n",
    "driver.find_element(By.CSS_SELECTOR, \"#search_button_global\").click()\n"
   ]
  }
 ],
 "metadata": {
  "kernelspec": {
   "display_name": "nlp",
   "language": "python",
   "name": "python3"
  },
  "language_info": {
   "codemirror_mode": {
    "name": "ipython",
    "version": 3
   },
   "file_extension": ".py",
   "mimetype": "text/x-python",
   "name": "python",
   "nbconvert_exporter": "python",
   "pygments_lexer": "ipython3",
   "version": "3.9.13"
  },
  "orig_nbformat": 4
 },
 "nbformat": 4,
 "nbformat_minor": 2
}
