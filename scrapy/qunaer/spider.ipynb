{
 "cells": [
  {
   "cell_type": "code",
   "execution_count": 6,
   "metadata": {},
   "outputs": [],
   "source": [
    "import time\n",
    "import re\n",
    "import requests\n",
    "from bs4 import BeautifulSoup\n",
    "# import xlwt\n",
    "import json"
   ]
  },
  {
   "cell_type": "code",
   "execution_count": 7,
   "metadata": {},
   "outputs": [
    {
     "data": {
      "text/plain": [
       "'<html>\\r\\n<head><title>405 Not Allowed</title></head>\\r\\n<body>\\r\\n<center><h1>405 Not Allowed</h1></center>\\r\\n<hr><center>QWS/1.0</center>\\r\\n</body>\\r\\n</html>\\r\\n<!-- a padding to disable MSIE and Chrome friendly error page -->\\r\\n<!-- a padding to disable MSIE and Chrome friendly error page -->\\r\\n<!-- a padding to disable MSIE and Chrome friendly error page -->\\r\\n<!-- a padding to disable MSIE and Chrome friendly error page -->\\r\\n<!-- a padding to disable MSIE and Chrome friendly error page -->\\r\\n<!-- a padding to disable MSIE and Chrome friendly error page -->\\r\\n'"
      ]
     },
     "execution_count": 7,
     "metadata": {},
     "output_type": "execute_result"
    }
   ],
   "source": [
    "url = 'https://hotel.qunar.com/cn/beijing_city/#fromDate=2020-01-01&cityurl=xiamen&toDate=2020-01-02&from=qunarHotel'\n",
    "\n",
    "request_payload = {\n",
    "  \"b\": {\n",
    "    \"bizVersion\": \"17\",\n",
    "    \"cityUrl\": \"maoming\",\n",
    "    \"cityName\": \"茂名\",\n",
    "    \"fromDate\": \"2023-08-02\",\n",
    "    \"toDate\": \"2023-08-31\",\n",
    "    \"q\": \"茂名站\",\n",
    "    \"qFrom\": 3,\n",
    "    \"start\": 20,\n",
    "    \"num\": 20,\n",
    "    \"minPrice\": 0,\n",
    "    \"maxPrice\": -1,\n",
    "    \"level\": \"\",\n",
    "    \"sort\": 0,\n",
    "    \"cityType\": 1,\n",
    "    \"fromForLog\": 1,\n",
    "    \"uuid\": \"\",\n",
    "    \"userName\": \"fzieznl7940\",\n",
    "    \"userId\": \"\",\n",
    "    \"searchType\": 0,\n",
    "    \"hourlyRoom\": 'false',\n",
    "    \"locationAreaFilter\": [],\n",
    "    \"comprehensiveFilter\": [],\n",
    "    \"vtoken\": \"pclist-v2-990029ee9222f65a9e3ea02e4ce4a9ae\",\n",
    "    \"channelId\": 1\n",
    "  },\n",
    "  \"Bella\": \"1683616182042##54f43044551de24087c3726f2a865aeff973b7fc##iKohiK3wgMkMf-i0gUPwaUPsXuPwaMHxoIkLq5GAcMGwqMWxcuPwEMWbiKiIcuPwaUPwXwPwa5TQjOWxcI10aS30a=D0aS3AWRDwiK3siK3saK2+WKj8ES3=WRPmXsvAWUPwawPwasDOVKvNWKPOWSDOaKD0aS30a2a0aSisyI0wcIkNiK3wiKWTiK3wj9W2jSHUaMD=WMa=WRvmf93+WRaOfMXAaR0SasHSasv0aS30a2a0aSi=y-ELfuPwaUPsXuPwaUkGWukTEukhEukGVukTWUPmWUkGWhkhEhPmEUkGWukTEukhEUkGWhkhXUkhWwkGWUkTahkhXw=0EKP0VDP0X230EKP0VKa0XPD0EKP0VRX0X2j0aS30a2a0aSilf-0+c+i2gwPwaUPsXuPwaUkGWuPNahPmEhkGWwkTXUPNVuPwXwkGWuPmEukhXUkGWuPNawkTXukGWuPmWhkhEUkGVuPmWuPNaUkGWukhXuPNWwkGVukTaUPmWhkGVhkTEukTaUPwaUPwXwPwaME0gOWwy-T=y9FbiK3wiKWTiK3wiPPAiKHGiPihiPPAiK2siPGTiPPAiKt=iPiIiPPNiKtAiK2wiPPAiPiTiK2+iPP=iP3miPiTiPPOiKtwiPDmiPPOiKHGiPDmiPPmiKHDiK28iPPmiKHRiKtwiPPAiK28iKHDiPPmiKHRiKtwiPPAiK28iKHDiPP+iPGhiK2NiPPNiKtAiK2wiPPAiPiTiK2+iPPNiPDwiKt=iPPmiPGGiPDwiPkIiPiRiKHRiPPOiKtwiPDmiK3wiKiRiK3wyIFsohPwaUPsXuPwaMHxoIkLq5GAcMGwqMWxcuPwaUPwXwPwa5WSgM08oGWwjwPwaUPsXuPAXUPwa5EQgCabg-kbj-3bjOFeiKiIouPwaUPwXwPwa5iej+W2fUNno9NHgUNScO=0aS30WPX0W=Xt##5MlQt_J9bCy5Zs3Ymd9U3##b\"\n",
    "  }\n",
    "head = {\n",
    "    'cookie' : 'QN1=00008d0034fc53cda8d84e0c; QN205=s%3Dbing; QN277=s%3Dbing; QN269=CE214A202CF211EE86DCFA163E694279; fid=d6ca921f-558f-4264-85d6-a7408f35dca5; qunar-assist={%22version%22:%2220211215173359.925%22%2C%22show%22:false%2C%22audio%22:false%2C%22speed%22:%22middle%22%2C%22zomm%22:1%2C%22cursor%22:false%2C%22pointer%22:false%2C%22bigtext%22:false%2C%22overead%22:false%2C%22readscreen%22:false%2C%22theme%22:%22default%22}; HN1=v1b1434558fcd679a4f6da72f4b0b333c7; HN2=qukzglglrqlgr; ariaDefaultTheme=null; SECKEY_ABVK=cUUARJO/rH+KGr3MjvO/LCo/2rpxjF7+KzTXJoyU10o%3D; BMAP_SECKEY=g4DftV1ZyKyN_6lb3vzp-SaPfxOJzwBDMUk5B2ULbD2dQUqfjXLeUngI_-wosRgRrkQBB40p04k3Eyzrg5LVaSbkZ8c2t6vQS9hwurqZhdCCqoIGHasDc4r9UfGe-ngnMtmUVkXZK0tTWV_GNA_bLvxgesaWxfOrmbBV7MhmOYUy-ZNRjLUxSSAclTvxU2Lx; ctt_june=1683616182042##iK3wWS2NVuPwawPwasDAaR3sWKkhaSGhaPGRVDX%3DX2DwX2X8XSanESfhaRPniK3siK3saKjNaRtmWKjwaKP%2BVuPwaUvt; QN300=s%3Dbing; QN99=9682; QunarGlobal=10.68.20.162_-751f5d42_189b3a73d75_b36|1690942179363; QN601=c9f08b2b9566c550edec8dc2941b4b29; QN163=0; QN48=b19daa6e-1ac1-4170-8b19-e21505a5508f; QN25=33c02ce9-dfc0-4107-ab99-696aadb1e4e1-9f992f90; QN271AC=register_pc; QN271SL=6fcbf30cf602eb21c3016deb9afd7e5c; QN271RC=6fcbf30cf602eb21c3016deb9afd7e5c; _q=U.fzieznl7940; csrfToken=pIrbGczVTMzhG3ibb0ZyNjaekOGdPGsZ; _s=s_JDIIJMIMBDMH3PJ62PVCUIWDIE; _t=28291813; _v=AHCIYficr9D7lkjodlkUmpLvOxyPtP9wxhuOD-c0EkwOUGNRPdLfoVH3U8PNJDQTYe1_muhisSEu3pTrXIsaCVzJrya0xCwrenxHha9gom1eD5B_GgGJnLqMQiQ2jlcJNEaM8gZpbO2EG3oGwhpgO2r-fSK_vO449Ebhr2lnF4xf; QN43=\"\"; QN42=%E5%8E%BB%E5%93%AA%E5%84%BF%E7%94%A8%E6%88%B7; QN44=fzieznl7940; _i=RBTjeL6OsCMQL3iRUuKQsku-aRxx; tabIndex=0; cityUrl=maoming; cityName=%25E8%258C%2582%25E5%2590%258D; checkInDate=2023-08-02; checkOutDate=2023-08-31; _vi=eYaxdJyGDx8jB2LEA5kcKmGSSOukuzx3gJ6TGO3gpIunRfW_HvNJUMYXIZKbGYFqD-PPjWJDcAtxu7X889DOxurFULbQ0J37Ee_R1iFVbgb0D8Rm1hpHeKAzKD8ZkUlmVQTnSUxoxqGP_n3q_XcgOffrMYM5qucDltVkscThNq99; QN267=1764170296f75df448; ctf_june=1683616182042##iK3wasjmWwPwawPwasDwWS2NEDXOasXAVKPsERGIasvnESXnW%3DPnVKiGW2WDiK3siK3saKjNaR2OastNaK3%3DVhPwaUvt; __qt=v1%7CVTJGc2RHVmtYMTlVMytOWFBUSkYyQ0ZTNjgzSXlZOFYxSEZUNGFNSitmeVlZOVVDaFZDMHFheWdnMUl4QWtUc3pWMWdNMTBDaXY3UmpMb3lpWmxwSzNXd3pCTzNoV0NKbm9rYjNIU1FnUzJ1cGFGcGlHSFhNRlFDU09lVFhhWDQ1R25UejZTOVJxUWlQTGxwVU5hd0tzSE5lQ3U3QTZrdVQ1TUZ5U0ZuK3JBPQ%3D%3D%7C1690963891359%7CVTJGc2RHVmtYMTgzaUF3ZFNoeHRLb24zTHUxOFJ1Z3pJYlVycm83KzhHamRGMEtDcWRiM3Y1aUtmNXFkSHV6ZWpTQVF5R29pZ2pqYllyOHpqWHR0YVE9PQ%3D%3D%7CVTJGc2RHVmtYMTlNVFdBNHlUTk5OanBpNHhDNDBQUVFuQXFTWnk1U0xuNlRDYWhCMUk3VUFEOTI1ODJKMWFTRUdqOFRMMHdscTFzWU5lcFU5WC9Ec1M1R1NNM3FxVXo0cldZY2Q0US9RcEp2MmdaVkxYNHFhUk91a0NiQlprSk1DRkpocVV5M25GVVJxNTVEOGNZc0I3ckxPYjdXT1BDSTJyUUhRSTFKcTZPNmtxNVhXNTMwVytyVTUyZzFRSTQ2TmlWdmFsN2p0ZmdmZzI1SFR2dWhXUDBSNitvR3Q2bU0zNHp2NTc1VDZBdjVtcXR1Qk4zU2FOMkpTWS9oaWY3VDEzanlDZnRucGZIL3prR0laMEMyaXo5WDlBd3NBN3RnMEJBQyt2bjJXREpkUElDc3hBQTNJM3dQRmVwM01NaXY4eUVaTnhOTXJGTkVlRTVCV1pSMERZMHF2cUtYdE05RDlWUFFCZHN0WXdqRkc5VmJtSE04T0tqeTA4blBMVlVBN0g3RVhLVSt0cE9jMzFubEdQRmg3Yy9vR3J2U05pK1JNMmhkT2F1WXJQdXVKdUlCcTRxa21yOHVBQ1piaEZHT3R1ZGNMNWEwb3FUYTVuMWdUQlJMR285UnZncTFSdVozNEFNbUREUHd6Nm0yV2JQNEZtYmhYSVNNRUQrQWladkxHSjF0ZVJDSVlGK2tiempsWURHNUZrNmFPakFGaGpjM28rT0RRQWd3ZnhNVWlxTjVSd2Q4dVBDVVRqTG41elU0NGpJSWpiM0ZPazJjSmY0dXVzdU0zUzY2RzNrSUZ6UjJSVlRWaXlZbXB1MnRnSDhGTVJmYzhnbDlLOFRweWY3bEhobkRkNlZYV1dzZEc1eE4vREVneVE9PQ%3D%3D; QN271=dc6ac290-0c4f-47f6-8bde-005f5ea3cb7f; cs_june=24e7899f5eb6aec19f4d1d4f61567a732a9de1d39467bb296b2dfc398f187b43093c7d7d0cd4a191f9b33a3ad37d70e49a3dcf798c41077300905c747b6e0fc4b17c80df7eee7c02a9c1a6a5b97c1179781625844372606eabd4825ecd16a57f5a737ae180251ef5be23400b098dd8ca',\n",
    "    \"user-agent\" : \"Mozilla/5.0 (Macintosh; Intel Mac OS X 10_15_6) AppleWebKit/537.36 (KHTML, like Gecko) Chrome/84.0.4147.105 Safari/537.36\"\n",
    "    # 'Referer' : 'https://hotel.qunar.com/cn/maoming/s00key43962757?fromDate=2023-08-02&toDate=2023-08-31',\n",
    "#     'Sec-Ch-Ua' : '\"Not/A)Brand\";v=\"99\", \"Google Chrome\";v=\"115\", \"Chromium\";v=\"115\"',\n",
    "#     'Sec-Ch-Ua-Mobile' : '?0',\n",
    "#     'Sec-Ch-Ua-Platform' : \"macOS\",\n",
    "#     'Sec-Fetch-Dest' : 'empty',\n",
    "#     'Sec-Fetch-Mode' : 'cors',\n",
    "#     'Sec-Fetch-Site' :\n",
    "# same-origin\n",
    "}\n",
    "response = requests.post(url, headers=head, data=json.dumps(request_payload))\n",
    "#headers里表示这里的数据获取是post方法，所以使用requests.post函数\n",
    "response.text"
   ]
  },
  {
   "cell_type": "code",
   "execution_count": null,
   "metadata": {},
   "outputs": [],
   "source": []
  }
 ],
 "metadata": {
  "kernelspec": {
   "display_name": "nlp",
   "language": "python",
   "name": "python3"
  },
  "language_info": {
   "codemirror_mode": {
    "name": "ipython",
    "version": 3
   },
   "file_extension": ".py",
   "mimetype": "text/x-python",
   "name": "python",
   "nbconvert_exporter": "python",
   "pygments_lexer": "ipython3",
   "version": "3.9.13"
  },
  "orig_nbformat": 4
 },
 "nbformat": 4,
 "nbformat_minor": 2
}
